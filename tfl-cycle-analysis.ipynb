{
 "cells": [
  {
   "cell_type": "markdown",
   "id": "00d6bd7d",
   "metadata": {},
   "source": [
    "## Step 1: Download Data from TFL "
   ]
  },
  {
   "cell_type": "code",
   "execution_count": 7,
   "id": "6bf40abf",
   "metadata": {},
   "outputs": [
    {
     "name": "stdout",
     "output_type": "stream",
     "text": [
      "Attempting to download 144 files...\n"
     ]
    },
    {
     "name": "stderr",
     "output_type": "stream",
     "text": [
      "100%|██████████████████████████████████████████████████████████████████████████████████████████| 144/144 [04:36<00:00,  1.92s/it]"
     ]
    },
    {
     "name": "stdout",
     "output_type": "stream",
     "text": [
      "✅ All available files downloaded to: tfl_cycle_data\n"
     ]
    },
    {
     "name": "stderr",
     "output_type": "stream",
     "text": [
      "\n"
     ]
    }
   ],
   "source": [
    "import os\n",
    "import requests\n",
    "from tqdm import tqdm\n",
    "from datetime import datetime, timedelta\n",
    "\n",
    "BASE_URL = \"https://cycling.data.tfl.gov.uk/usage-stats/\"\n",
    "TARGET_DIR = \"tfl_cycle_data\"\n",
    "START_DATE = datetime(2020, 12, 30)\n",
    "END_DATE = datetime(2023, 6, 19)  # Just before 375\n",
    "START_INDEX = 246\n",
    "\n",
    "os.makedirs(TARGET_DIR, exist_ok=True)\n",
    "\n",
    "def format_date(d):\n",
    "    return d.strftime(\"%d%b%Y\")\n",
    "\n",
    "current_date = START_DATE\n",
    "file_index = START_INDEX\n",
    "download_links = []\n",
    "\n",
    "# === PHASE 1: Weekly files (246 to 374, with exceptions)\n",
    "while current_date < END_DATE:\n",
    "    # Special case for 334 (5-day file)\n",
    "    if file_index == 334:\n",
    "        filename = f\"{file_index}JourneyDataExtract07Sep2022-11Sep2022.csv\"\n",
    "        download_links.append((BASE_URL + filename, filename))\n",
    "        current_date = datetime(2022, 9, 12)\n",
    "        file_index += 1\n",
    "        continue\n",
    "\n",
    "    # Normal 7-day range\n",
    "    start_str = format_date(current_date)\n",
    "    end_str = format_date(current_date + timedelta(days=6))\n",
    "    filename = f\"{file_index}JourneyDataExtract{start_str}-{end_str}.csv\"\n",
    "    download_links.append((BASE_URL + filename, filename))\n",
    "    current_date += timedelta(days=7)\n",
    "    file_index += 1\n",
    "\n",
    "# Add special case for 375 (12-day file)\n",
    "download_links.append((\n",
    "    BASE_URL + \"375JourneyDataExtract19Jun2023-30Jun2023.csv\",\n",
    "    \"375JourneyDataExtract19Jun2023-30Jun2023.csv\"\n",
    "))\n",
    "\n",
    "# === PHASE 2: Manually define filenames from 376 onwards \n",
    "manual_files = [\n",
    "    \"376JourneyDataExtract01Jul2023-14Jul2023.csv\",\n",
    "    \"377JourneyDataExtract15Jul2023-31Jul2023.csv\",\n",
    "    \"378JourneyDataExtract01Aug2023-14Aug2023.csv\",\n",
    "    \"378JourneyDataExtract15Aug2023-31Aug2023.csv\",\n",
    "    \"379JourneyDataExtract01Sep2023-14Sep2023.csv\",\n",
    "    \"380JourneyDataExtract15Sep2023-30Sep2023.csv\",\n",
    "    \"381JourneyDataExtract01Oct2023-14Oct2023.csv\",\n",
    "    \"382JourneyDataExtract15Oct2023-31Oct2023.csv\",\n",
    "    \"383JourneyDataExtract01Nov2023-14Nov2023.csv\",\n",
    "    \"384JourneyDataExtract15Nov2023-30Nov2023.csv\",\n",
    "    \"385JourneyDataExtract01Dec2023-14Dec2023.csv\",\n",
    "    \"386JourneyDataExtract15Dec2023-31Dec2023.csv\",\n",
    "    \"387JourneyDataExtract01Jan2024-14Jan2024.csv\",\n",
    "    \"388JourneyDataExtract15Jan2024-31Jan2024.csv\"\n",
    "]\n",
    "\n",
    "for file in manual_files:\n",
    "    download_links.append((BASE_URL + file, file))\n",
    "\n",
    "# === DOWNLOAD BLOCK\n",
    "print(f\"Attempting to download {len(download_links)} files...\")\n",
    "\n",
    "for url, filename in tqdm(download_links):\n",
    "    path = os.path.join(TARGET_DIR, filename)\n",
    "    if os.path.exists(path):\n",
    "        continue\n",
    "    try:\n",
    "        with requests.get(url, stream=True) as r:\n",
    "            r.raise_for_status()\n",
    "            with open(path, \"wb\") as f:\n",
    "                for chunk in r.iter_content(chunk_size=8192):\n",
    "                    f.write(chunk)\n",
    "    except Exception as e:\n",
    "        print(f\"❌ Failed to download {filename}: {e}\")\n",
    "\n",
    "print(\"✅ All available files downloaded to:\", TARGET_DIR)\n"
   ]
  },
  {
   "cell_type": "code",
   "execution_count": 11,
   "id": "f2d54deb",
   "metadata": {},
   "outputs": [
    {
     "name": "stdout",
     "output_type": "stream",
     "text": [
      "✅ Combined CSV saved as combined_tfl_cycle_data.csv\n"
     ]
    }
   ],
   "source": [
    "import os\n",
    "import pandas as pd\n",
    "\n",
    "# Path to your downloaded CSVs\n",
    "data_dir = \"tfl_cycle_data\"\n",
    "\n",
    "# Get all .csv files\n",
    "csv_files = [f for f in os.listdir(data_dir) if f.endswith(\".csv\")]\n",
    "\n",
    "# Combine them into one DataFrame\n",
    "combined_df = pd.DataFrame()\n",
    "for file in csv_files:\n",
    "    path = os.path.join(data_dir, file)\n",
    "    try:\n",
    "        df = pd.read_csv(path , low_memory=False)\n",
    "        df[\"source_file\"] = file  # Track file of origin\n",
    "        combined_df = pd.concat([combined_df, df], ignore_index=True)\n",
    "    except Exception as e:\n",
    "        print(f\"Error reading {file}: {e}\")\n",
    "\n",
    "# Save combined file (optional)\n",
    "combined_df.to_csv(\"combined_tfl_cycle_data.csv\", index=False)\n",
    "print(\"✅ Combined CSV saved as combined_tfl_cycle_data.csv\")\n"
   ]
  },
  {
   "cell_type": "code",
   "execution_count": null,
   "id": "34bbd54a",
   "metadata": {},
   "outputs": [],
   "source": [
    "import pandas as pd \n",
    "\n",
    "combined_df = pd.read_csv(\"combined_tfl_cycle_data.csv\", low_memory=False)\n",
    "\n",
    "combined_df.head()"
   ]
  },
  {
   "cell_type": "code",
   "execution_count": 19,
   "id": "73f34228",
   "metadata": {},
   "outputs": [
    {
     "name": "stdout",
     "output_type": "stream",
     "text": [
      "\n",
      "📌 Checking types for unified column: 'rental_id'\n",
      "  - Rental Id: ❌ Not present in DataFrame\n",
      "\n",
      "📌 Checking types for unified column: 'bike_id'\n",
      "  - Bike Id: ❌ Not present in DataFrame\n",
      "  - Bike number: ❌ Not present in DataFrame\n",
      "\n",
      "📌 Checking types for unified column: 'start_time'\n",
      "  - Start Date: ❌ Not present in DataFrame\n",
      "  - Start date: ❌ Not present in DataFrame\n",
      "\n",
      "📌 Checking types for unified column: 'end_time'\n",
      "  - End Date: ❌ Not present in DataFrame\n",
      "  - End date: ❌ Not present in DataFrame\n",
      "\n",
      "📌 Checking types for unified column: 'start_station_id'\n",
      "  - StartStation Id: ❌ Not present in DataFrame\n",
      "  - Start station number: ❌ Not present in DataFrame\n",
      "\n",
      "📌 Checking types for unified column: 'end_station_id'\n",
      "  - EndStation Id: ❌ Not present in DataFrame\n",
      "  - End station number: ❌ Not present in DataFrame\n",
      "\n",
      "📌 Checking types for unified column: 'start_station_name'\n",
      "  - StartStation Name: ❌ Not present in DataFrame\n",
      "  - Start station: ❌ Not present in DataFrame\n",
      "\n",
      "📌 Checking types for unified column: 'end_station_name'\n",
      "  - EndStation Name: ❌ Not present in DataFrame\n",
      "  - End station: ❌ Not present in DataFrame\n",
      "\n",
      "📌 Checking types for unified column: 'duration_sec'\n",
      "  - Duration: ❌ Not present in DataFrame\n",
      "  - Total duration: ❌ Not present in DataFrame\n",
      "\n",
      "📌 Checking types for unified column: 'duration_ms'\n",
      "  - Total duration (ms): ❌ Not present in DataFrame\n",
      "\n",
      "📌 Checking types for unified column: 'bike_model'\n",
      "  - Bike model: ❌ Not present in DataFrame\n",
      "\n",
      "📌 Checking types for unified column: 'bike_internal_id'\n",
      "  - Number: ❌ Not present in DataFrame\n",
      "\n",
      "📌 Checking types for unified column: 'source_file'\n",
      "  - source_file: {'str': 31344479}\n"
     ]
    }
   ],
   "source": [
    "combined_df = pd.read_csv(\"combined_tfl_cycle_data.csv\", index=False,low_memory=False)\n",
    "\n",
    "# Define groups of semantically duplicate columns\n",
    "column_groups = {\n",
    "    \"rental_id\": [\"Rental Id\"],\n",
    "    \"bike_id\": [\"Bike Id\", \"Bike number\"],\n",
    "    \"start_time\": [\"Start Date\", \"Start date\"],\n",
    "    \"end_time\": [\"End Date\", \"End date\"],\n",
    "    \"start_station_id\": [\"StartStation Id\", \"Start station number\"],\n",
    "    \"end_station_id\": [\"EndStation Id\", \"End station number\"],\n",
    "    \"start_station_name\": [\"StartStation Name\", \"Start station\"],\n",
    "    \"end_station_name\": [\"EndStation Name\", \"End station\"],\n",
    "    \"duration_sec\": [\"Duration\", \"Total duration\"],\n",
    "    \"duration_ms\": [\"Total duration (ms)\"],\n",
    "    \"bike_model\": [\"Bike model\"],\n",
    "    \"bike_internal_id\": [\"Number\"],\n",
    "    \"source_file\": [\"source_file\"]\n",
    "}\n",
    "\n",
    "for unified_col, candidates in column_groups.items():\n",
    "    print(f\"\\n📌 Checking types for unified column: '{unified_col}'\")\n",
    "    for col in candidates:\n",
    "        if col in combined_df.columns:\n",
    "            type_counts = combined_df[col].map(lambda x: type(x).__name__).value_counts()\n",
    "            print(f\"  - {col}: {dict(type_counts)}\")\n",
    "        else:\n",
    "            print(f\"  - {col}: ❌ Not present in DataFrame\")\n",
    "\n",
    "            \n",
    "cleaned_df = pd.DataFrame()\n",
    "for unified_col, candidates in column_groups.items():\n",
    "    for col in candidates:\n",
    "        if col in combined_df.columns:\n",
    "            # Use the first available non-null value\n",
    "            if unified_col not in cleaned_df:\n",
    "                cleaned_df[unified_col] = combined_df[col]\n",
    "            else:\n",
    "                cleaned_df[unified_col] = cleaned_df[unified_col].combine_first(combined_df[col])\n"
   ]
  },
  {
   "cell_type": "code",
   "execution_count": null,
   "id": "b8700ee9",
   "metadata": {},
   "outputs": [],
   "source": [
    "import pandas as pd \n",
    "\n",
    "combined_df = pd.read_csv(\"combined_tfl_cycle_data.csv\", low_memory=False)\n",
    "\n",
    "# List of columns you want to inspect\n",
    "columns_to_check = combined_df.columns\n",
    "\n",
    "# Inspect each column\n",
    "for col in columns_to_check:\n",
    "    print(f\"\\n📌 Column: {col}\")\n",
    "    \n",
    "    if col not in combined_df.columns:\n",
    "        print(\"❌ Not found in DataFrame\")\n",
    "        continue\n",
    "    \n",
    "    # Data type summary\n",
    "    try:\n",
    "        type_counts = combined_df[col].map(lambda x: type(x).__name__).value_counts()\n",
    "        print(f\"🔎 Type Distribution: {dict(type_counts)}\")\n",
    "    except Exception as e:\n",
    "        print(f\"⚠️ Error getting type counts: {e}\")\n",
    "\n",
    "    # Sample values\n",
    "    try:\n",
    "        sample_vals = combined_df[col].dropna().unique()[:5]\n",
    "        print(\"🧪 Sample Values:\", sample_vals)\n",
    "    except Exception as e:\n",
    "        print(f\"⚠️ Error getting sample values: {e}\")\n"
   ]
  },
  {
   "cell_type": "code",
   "execution_count": null,
   "id": "0fa8530d",
   "metadata": {},
   "outputs": [],
   "source": []
  },
  {
   "cell_type": "code",
   "execution_count": null,
   "id": "b60d81e5",
   "metadata": {},
   "outputs": [],
   "source": []
  },
  {
   "cell_type": "code",
   "execution_count": null,
   "id": "5cc0c153",
   "metadata": {},
   "outputs": [],
   "source": []
  },
  {
   "cell_type": "code",
   "execution_count": 12,
   "id": "57db264d",
   "metadata": {},
   "outputs": [
    {
     "data": {
      "text/plain": [
       "Index(['Rental Id', 'Duration', 'Bike Id', 'End Date', 'EndStation Id',\n",
       "       'EndStation Name', 'Start Date', 'StartStation Id', 'StartStation Name',\n",
       "       'source_file', 'Number', 'Start date', 'Start station number',\n",
       "       'Start station', 'End date', 'End station number', 'End station',\n",
       "       'Bike number', 'Bike model', 'Total duration', 'Total duration (ms)'],\n",
       "      dtype='object')"
      ]
     },
     "execution_count": 12,
     "metadata": {},
     "output_type": "execute_result"
    }
   ],
   "source": [
    "combined_df.columns"
   ]
  },
  {
   "cell_type": "code",
   "execution_count": 13,
   "id": "4fd61bca",
   "metadata": {},
   "outputs": [],
   "source": [
    "# Mapping from raw to unified column names\n",
    "column_mapping = {\n",
    "    'Rental Id': 'rental_id',\n",
    "    'Bike Id': 'bike_id',\n",
    "    'Bike number': 'bike_id',\n",
    "    'Bike model': 'bike_model',\n",
    "\n",
    "    'Start Date': 'start_time',\n",
    "    'Start date': 'start_time',\n",
    "    'End Date': 'end_time',\n",
    "    'End date': 'end_time',\n",
    "\n",
    "    'StartStation Id': 'start_station_id',\n",
    "    'Start station number': 'start_station_id',\n",
    "    'EndStation Id': 'end_station_id',\n",
    "    'End station number': 'end_station_id',\n",
    "\n",
    "    'StartStation Name': 'start_station_name',\n",
    "    'Start station': 'start_station_name',\n",
    "    'EndStation Name': 'end_station_name',\n",
    "    'End station': 'end_station_name',\n",
    "\n",
    "    'Duration': 'duration_sec',\n",
    "    'Total duration': 'duration_sec',\n",
    "    'Total duration (ms)': 'duration_ms',\n",
    "    \n",
    "    'Number': 'bike_internal_id',  # if distinct\n",
    "    'source_file': 'source_file'\n",
    "}\n",
    "\n",
    "# Apply mapping if column exists\n",
    "combined_df = combined_df.rename(columns={col: new for col, new in column_mapping.items() if col in combined_df.columns})\n"
   ]
  },
  {
   "cell_type": "code",
   "execution_count": 16,
   "id": "d19a05ee",
   "metadata": {},
   "outputs": [
    {
     "name": "stdout",
     "output_type": "stream",
     "text": [
      "⚠️ Skipped non-1D column: duration_sec\n",
      "⚠️ Skipped non-1D column: bike_id\n",
      "⚠️ Skipped non-1D column: end_time\n",
      "⚠️ Skipped non-1D column: end_station_id\n",
      "⚠️ Skipped non-1D column: end_station_name\n",
      "⚠️ Skipped non-1D column: start_time\n",
      "⚠️ Skipped non-1D column: start_station_id\n",
      "⚠️ Skipped non-1D column: start_station_name\n",
      "⚠️ Skipped non-1D column: start_time\n",
      "⚠️ Skipped non-1D column: start_station_id\n",
      "⚠️ Skipped non-1D column: start_station_name\n",
      "⚠️ Skipped non-1D column: end_time\n",
      "⚠️ Skipped non-1D column: end_station_id\n",
      "⚠️ Skipped non-1D column: end_station_name\n",
      "⚠️ Skipped non-1D column: bike_id\n",
      "⚠️ Skipped non-1D column: duration_sec\n",
      "✅ Type consistency analysis complete.\n",
      "python_type          float       str\n",
      "column                              \n",
      "bike_internal_id  31344479         0\n",
      "bike_model        19727277  11617202\n",
      "duration_ms       31344479         0\n",
      "rental_id         31344479         0\n",
      "source_file              0  31344479\n"
     ]
    }
   ],
   "source": [
    "type_report = {}\n",
    "\n",
    "for col in combined_df.columns:\n",
    "    try:\n",
    "        # Only proceed if it's a proper Series (1D)\n",
    "        if combined_df[col].ndim == 1:\n",
    "            type_counts = combined_df[col].map(lambda x: type(x).__name__).value_counts()\n",
    "            type_report[col] = type_counts\n",
    "        else:\n",
    "            print(f\"⚠️ Skipped non-1D column: {col}\")\n",
    "    except Exception as e:\n",
    "        print(f\"❌ Error processing column {col}: {e}\")\n",
    "\n",
    "# Combine into readable DataFrame\n",
    "type_summary_df = pd.DataFrame(type_report).T.fillna(0).astype(int)\n",
    "type_summary_df.index.name = \"column\"\n",
    "type_summary_df.columns.name = \"python_type\"\n",
    "type_summary_df = type_summary_df.sort_index()\n",
    "\n",
    "print(\"✅ Type consistency analysis complete.\")\n",
    "print(type_summary_df)"
   ]
  },
  {
   "cell_type": "code",
   "execution_count": 18,
   "id": "ec8b7712",
   "metadata": {},
   "outputs": [
    {
     "name": "stdout",
     "output_type": "stream",
     "text": [
      "Counter({'duration_sec': 2, 'bike_id': 2, 'end_time': 2, 'end_station_id': 2, 'end_station_name': 2, 'start_time': 2, 'start_station_id': 2, 'start_station_name': 2, 'rental_id': 1, 'source_file': 1, 'bike_internal_id': 1, 'bike_model': 1, 'duration_ms': 1})\n"
     ]
    }
   ],
   "source": [
    "from collections import Counter\n",
    "print(Counter(combined_df.columns))"
   ]
  },
  {
   "cell_type": "code",
   "execution_count": null,
   "id": "188dd42e",
   "metadata": {},
   "outputs": [],
   "source": []
  }
 ],
 "metadata": {
  "kernelspec": {
   "display_name": "Python 3 (ipykernel)",
   "language": "python",
   "name": "python3"
  },
  "language_info": {
   "codemirror_mode": {
    "name": "ipython",
    "version": 3
   },
   "file_extension": ".py",
   "mimetype": "text/x-python",
   "name": "python",
   "nbconvert_exporter": "python",
   "pygments_lexer": "ipython3",
   "version": "3.9.6"
  }
 },
 "nbformat": 4,
 "nbformat_minor": 5
}
